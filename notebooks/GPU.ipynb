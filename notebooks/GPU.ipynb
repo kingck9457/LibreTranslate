{
  "cells": [
    {
      "cell_type": "markdown",
      "metadata": {
        "id": "view-in-github",
        "colab_type": "text"
      },
      "source": [
        "<a href=\"https://colab.research.google.com/github/kingck9457/LibreTranslate/blob/main/notebooks/GPU.ipynb\" target=\"_parent\"><img src=\"https://colab.research.google.com/assets/colab-badge.svg\" alt=\"Open In Colab\"/></a>"
      ]
    },
    {
      "cell_type": "markdown",
      "metadata": {
        "id": "QOv5ANbBZiKh"
      },
      "source": [
        "Due to Colab cracking down on this notebook, we've been forced to take it offline for a while. We're really, really sorry about this.\n",
        "Please find other, alternative ways to use Pygmalion 6B.\n",
        "\n",
        "We'll try to be back soon. Our deepest apologies."
      ]
    },
    {
      "cell_type": "markdown",
      "metadata": {
        "id": "fuidmTclZiKj"
      },
      "source": []
    }
  ],
  "metadata": {
    "accelerator": "GPU",
    "colab": {
      "provenance": [],
      "include_colab_link": true
    },
    "gpuClass": "standard",
    "kernelspec": {
      "display_name": "Python 3",
      "name": "python3"
    },
    "language_info": {
      "name": "python"
    }
  },
  "nbformat": 4,
  "nbformat_minor": 0
}